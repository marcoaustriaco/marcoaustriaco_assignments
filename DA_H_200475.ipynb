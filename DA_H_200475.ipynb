{
 "cells": [
  {
   "cell_type": "markdown",
   "id": "88a3a42e",
   "metadata": {},
   "source": [
    "# PROBLEM 1"
   ]
  },
  {
   "cell_type": "code",
   "execution_count": 12,
   "id": "b917399a",
   "metadata": {},
   "outputs": [
    {
     "name": "stdout",
     "output_type": "stream",
     "text": [
      "Please put in a number, and when you're finished type 'a': 1\n",
      "Please put in a number, and when you're finished type 'a': 22\n",
      "Please put in a number, and when you're finished type 'a': 3\n",
      "Please put in a number, and when you're finished type 'a': 4\n",
      "Please put in a number, and when you're finished type 'a': 5\n",
      "Please put in a number, and when you're finished type 'a': -5\n",
      "Please put in a number, and when you're finished type 'a': 0\n",
      "Please put in a number, and when you're finished type 'a': a\n",
      "Positive - 5\n",
      "Negative - 1\n",
      "Zeroes - 1\n"
     ]
    }
   ],
   "source": [
    "positive = 0\n",
    "negative = 0\n",
    "zero = 0\n",
    "\n",
    "while True:\n",
    "    number = input(\"Please put in a number, and when you're finished type 'a': \")\n",
    "    if number != \"a\":\n",
    "        if int(number) > 0:\n",
    "            positive += 1\n",
    "            continue\n",
    "        elif int(number) < 0:\n",
    "            negative += 1\n",
    "            continue\n",
    "        elif int(number) == 0:\n",
    "            zero += 1\n",
    "            continue\n",
    "    else:\n",
    "        break\n",
    "        \n",
    "print(f\"Positive - {positive}\")\n",
    "print(f\"Negative - {negative}\")\n",
    "print(f\"Zeroes - {zero}\")"
   ]
  },
  {
   "cell_type": "markdown",
   "id": "8e931f8b",
   "metadata": {},
   "source": [
    "# PROBLEM 2"
   ]
  },
  {
   "cell_type": "code",
   "execution_count": 36,
   "id": "0d614e8d",
   "metadata": {},
   "outputs": [
    {
     "name": "stdout",
     "output_type": "stream",
     "text": [
      "Please enter the amount of coffee in grams: 30\n",
      "Would you like your coffee brew to be sweet or acidic? (type sweet or acidic): acidic\n",
      "Do you want your coffee strong (Y or N)n\n",
      "Water pour plan:\n",
      "First Part(180.0g):\n",
      "Pour #1: 108.0 grams\n",
      "Pour #2: 72.0 grams\n",
      "Second part(270.0g):\n",
      "Pour #3: 135.0 grams\n",
      "Pour #4: 135.0 grams\n",
      "Total water: 450g\n"
     ]
    }
   ],
   "source": [
    "#4 - 6 method divides total water into 40 percent and 60 percent\n",
    "#first 40 in two pours\n",
    "#last 60 you can decide\n",
    "\n",
    "#first 2 decide balance of acidity and sweetness\n",
    "#remaining number of pours decide strength of coffee\n",
    "\n",
    "coffee = int(input(\"Please enter the amount of coffee in grams: \"))\n",
    "water = coffee*15\n",
    "\n",
    "while True:\n",
    "    brew = input(\"Would you like your coffee brew to be sweet or acidic? (type sweet or acidic): \")\n",
    "    if brew != \"sweet\" and brew != \"acidic\":\n",
    "        print(\"You have entered an invalid response. Please try again!\")\n",
    "        continue\n",
    "    else:\n",
    "        break\n",
    "        \n",
    "while True:        \n",
    "    strength = input(\"Do you want your coffee strong (Y or N)\")\n",
    "    if strength != \"y\" and strength != \"Y\" and strength != \"N\" and strength != \"n\":\n",
    "        print(\"You have entered an invalid response. Please try again!\")\n",
    "        continue\n",
    "    else:\n",
    "        break\n",
    "        \n",
    "pour1 = float(water*0.4)\n",
    "pour2 = float(water*0.6)\n",
    "\n",
    "if brew == \"sweet\":\n",
    "    first_pour = 0.4*pour1\n",
    "    second_pour = 0.6*pour1\n",
    "elif brew == \"acidic\":\n",
    "    first_pour = 0.6*pour1\n",
    "    second_pour = 0.4*pour1\n",
    "    \n",
    "if strength == \"Y\" or strength == \"y\":\n",
    "    strength_pour = pour2/4\n",
    "elif strength == \"N\" or strength == \"n\":\n",
    "    strength_pour = pour2/2\n",
    "        \n",
    "print(\"Water pour plan:\")\n",
    "print(f\"First Part({pour1}g):\")\n",
    "print(f\"Pour #1: {first_pour} grams\")\n",
    "print(f\"Pour #2: {second_pour} grams\")\n",
    "print(f\"Second part({pour2}g):\")\n",
    "if strength == \"Y\" or strength == \"y\":\n",
    "    print(f\"Pour #3: {strength_pour} grams\")\n",
    "    print(f\"Pour #4: {strength_pour} grams\")\n",
    "    print(f\"Pour #5: {strength_pour} grams\")\n",
    "    print(f\"Pour #6: {strength_pour} grams\")\n",
    "elif strength == \"N\" or strength == \"n\":\n",
    "    print(f\"Pour #3: {strength_pour} grams\")\n",
    "    print(f\"Pour #4: {strength_pour} grams\")\n",
    "print(f\"Total water: {water}g\")\n",
    "\n",
    "        "
   ]
  },
  {
   "cell_type": "markdown",
   "id": "e010384d",
   "metadata": {},
   "source": [
    "# PROBLEM 3"
   ]
  },
  {
   "cell_type": "code",
   "execution_count": 45,
   "id": "ad6eb78c",
   "metadata": {},
   "outputs": [
    {
     "name": "stdout",
     "output_type": "stream",
     "text": [
      "Welcome! Here is our menu!\n",
      "\n",
      "Chicken Burger: Php 60\n",
      "Sisig Burrito: Php 70\n",
      "Beef Kebab Bowl: Php 80\n",
      "Calamansi Juice: Php 20\n",
      "What will you have? chicken burger\n",
      "That's Php 60 so far!\n",
      "What will you have? calamansi juice\n",
      "That's Php 80 so far!\n",
      "What will you have? beef kebab bowl\n",
      "That's Php 160 so far!\n",
      "What will you have? sisig burrito\n",
      "That's Php 230 so far!\n",
      "What will you have? sisig burrito\n",
      "That's Php 300 so far!\n",
      "That will be a total of Php300.\n",
      "How much cash will you pay? 450\n",
      "Thank you for your payment. Your change is Php150. Enjoy your order!\n"
     ]
    }
   ],
   "source": [
    "def problem_3():\n",
    "    print(\"Welcome! Here is our menu!\")\n",
    "    print()\n",
    "    print(\"Chicken Burger: Php 60\")\n",
    "    print(\"Sisig Burrito: Php 70\")\n",
    "    print(\"Beef Kebab Bowl: Php 80\")\n",
    "    print(\"Calamansi Juice: Php 20\")\n",
    "\n",
    "    total = 0\n",
    "    counter = 1\n",
    "\n",
    "    while counter <= 5:\n",
    "        order = input(\"What will you have? \")\n",
    "        if order != \"/checkout\":\n",
    "            if order != \"chicken burger\" and order != \"sisig burrito\" and order != \"beef kebab bowl\" and order != \"calamansi juice\":\n",
    "                print(\"Oops that's not on our menu! Please check your spelling and try again :)\")\n",
    "                continue\n",
    "            else:\n",
    "                if order == \"chicken burger\":\n",
    "                    total += 60\n",
    "                    print(f\"That's Php {total} so far!\")\n",
    "                    counter += 1\n",
    "                    continue\n",
    "                elif order == \"sisig burrito\":\n",
    "                    total += 70\n",
    "                    print(f\"That's Php {total} so far!\")\n",
    "                    counter += 1\n",
    "                elif order == \"beef kebab bowl\":\n",
    "                    total += 80\n",
    "                    print(f\"That's Php {total} so far!\")\n",
    "                    counter += 1\n",
    "                elif order == \"calamansi juice\":\n",
    "                    total += 20\n",
    "                    print(f\"That's Php {total} so far!\")\n",
    "                    counter += 1\n",
    "        else:\n",
    "            break\n",
    "            \n",
    "    while True:\n",
    "        print(f\"That will be a total of Php{total}.\")\n",
    "        payment = int(input(\"How much cash will you pay? \"))\n",
    "        if payment >= total:\n",
    "            change = payment - total\n",
    "            if change == 0:\n",
    "                print(\"Thank you for giving the exact amount! Have a great day!\")\n",
    "                break\n",
    "            elif change > 0: \n",
    "                print(f\"Thank you for your payment. Your change is Php{change}. Enjoy your order!\")\n",
    "                break\n",
    "        else:\n",
    "            print(\"Insufficient payment. Transaction could not be completed.\")\n",
    "            continue\n",
    "        break\n",
    "\n",
    "problem_3()"
   ]
  },
  {
   "cell_type": "markdown",
   "id": "39b89417",
   "metadata": {},
   "source": [
    "# PROBLEM 4"
   ]
  },
  {
   "cell_type": "code",
   "execution_count": 44,
   "id": "dd61d7df",
   "metadata": {},
   "outputs": [
    {
     "name": "stdout",
     "output_type": "stream",
     "text": [
      "What is the size of your border: 5\n",
      "* * * * * * * * * \n",
      "* * * * * \n",
      "* * * * * \n",
      "* * * * * \n",
      "* * * * * * * * * \n",
      "*       * * * * * \n",
      "*       * * * * * \n",
      "*       * * * * * \n",
      "* * * * * * * * * \n"
     ]
    }
   ],
   "source": [
    "size = int(input(\"What is the size of your border: \"))\n",
    "\n",
    "#size is the middle\n",
    "\n",
    "for i in range(1,size+size,1):\n",
    "    for j in range(1,size+size,1):\n",
    "        if i == 1 or i == size+size-1 or i == size:\n",
    "            print(\"*\",end = \" \") \n",
    "        elif i < size:\n",
    "            if j <= size or j == size + size: #???\n",
    "                print(\"*\",end = \" \")\n",
    "        else:\n",
    "            if j == 1 or j == size or j == size+size-1 or j >= size:\n",
    "                print(\"*\",end = \" \")\n",
    "            else:\n",
    "                print(\" \",end = \" \")\n",
    "                \n",
    "    print()"
   ]
  },
  {
   "cell_type": "markdown",
   "id": "a75b889e",
   "metadata": {},
   "source": [
    "# PROBLEM 5"
   ]
  },
  {
   "cell_type": "code",
   "execution_count": 30,
   "id": "00f5d835",
   "metadata": {},
   "outputs": [
    {
     "name": "stdout",
     "output_type": "stream",
     "text": [
      "Grilled Tiger Fish - 5 \n",
      "Jueyun Chili Chicken - 20 \n",
      "Jade Parcels - 25 \n",
      "Total Profit - 8625 \n"
     ]
    }
   ],
   "source": [
    "#chicken/ make = 150 / sold = 250 / profit = 100\n",
    "#fish/ make = 100 / sold = 175 / profit = 75 \n",
    "#parcels make / make = 350 / sold = 600 / profit = 250\n",
    "\n",
    "#budget = 15000\n",
    "#EXPENSES: cart = 1500 /  DONE\n",
    "#max dishes = 50 DONE\n",
    "#minumum = 5 DONE\n",
    "#fish must be prepared in 2s DONE\n",
    "#chicken must be prepared in 3s DONE\n",
    "#parcel max = 25\n",
    "\n",
    "optimal_profit = 0\n",
    "optimal_fish = 0\n",
    "optimal_chicken = 0\n",
    "optimal_parcel = 0\n",
    "\n",
    "for f in range(5,51,2):\n",
    "    for c in range(5,51,3):\n",
    "        for p in range(5,51,1):\n",
    "            if f + c + p <= 50:\n",
    "                if p <= 25:\n",
    "                    cost = 1500 + 150*c + 100*f + 350*p\n",
    "                    if cost <= 15000:\n",
    "                        profit = 100*c + 75*f +250*p\n",
    "                        if profit > optimal_profit:\n",
    "                            optimal_profit = profit\n",
    "                            optimal_fish = f\n",
    "                            optimal_chicken = c\n",
    "                            optimal_parcel = p\n",
    "                        else:\n",
    "                            continue\n",
    "                    else:\n",
    "                        continue  \n",
    "                else:\n",
    "                    continue\n",
    "            else:\n",
    "                continue\n",
    "\n",
    "print(f\"Grilled Tiger Fish - {optimal_fish} \")\n",
    "print(f\"Jueyun Chili Chicken - {optimal_chicken} \")\n",
    "print(f\"Jade Parcels - {optimal_parcel} \")\n",
    "print(f\"Total Profit - {optimal_profit} \")\n",
    "\n",
    "\n",
    "\n"
   ]
  }
 ],
 "metadata": {
  "kernelspec": {
   "display_name": "Python 3",
   "language": "python",
   "name": "python3"
  },
  "language_info": {
   "codemirror_mode": {
    "name": "ipython",
    "version": 3
   },
   "file_extension": ".py",
   "mimetype": "text/x-python",
   "name": "python",
   "nbconvert_exporter": "python",
   "pygments_lexer": "ipython3",
   "version": "3.8.8"
  }
 },
 "nbformat": 4,
 "nbformat_minor": 5
}
