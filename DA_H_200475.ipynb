{
 "cells": [
  {
   "cell_type": "markdown",
   "id": "88a3a42e",
   "metadata": {},
   "source": [
    "# PROBLEM 1"
   ]
  },
  {
   "cell_type": "code",
   "execution_count": null,
   "id": "b917399a",
   "metadata": {},
   "outputs": [],
   "source": []
  },
  {
   "cell_type": "markdown",
   "id": "8e931f8b",
   "metadata": {},
   "source": [
    "# PROBLEM 2"
   ]
  },
  {
   "cell_type": "code",
   "execution_count": null,
   "id": "0d614e8d",
   "metadata": {},
   "outputs": [],
   "source": []
  },
  {
   "cell_type": "markdown",
   "id": "e010384d",
   "metadata": {},
   "source": [
    "# PROBLEM 3"
   ]
  },
  {
   "cell_type": "code",
   "execution_count": null,
   "id": "ad6eb78c",
   "metadata": {},
   "outputs": [],
   "source": []
  },
  {
   "cell_type": "markdown",
   "id": "39b89417",
   "metadata": {},
   "source": [
    "# PROBLEM 4"
   ]
  },
  {
   "cell_type": "code",
   "execution_count": null,
   "id": "dd61d7df",
   "metadata": {},
   "outputs": [],
   "source": []
  },
  {
   "cell_type": "markdown",
   "id": "a75b889e",
   "metadata": {},
   "source": [
    "# PROBLEM 5"
   ]
  },
  {
   "cell_type": "code",
   "execution_count": null,
   "id": "00f5d835",
   "metadata": {},
   "outputs": [],
   "source": []
  }
 ],
 "metadata": {
  "kernelspec": {
   "display_name": "Python 3",
   "language": "python",
   "name": "python3"
  },
  "language_info": {
   "codemirror_mode": {
    "name": "ipython",
    "version": 3
   },
   "file_extension": ".py",
   "mimetype": "text/x-python",
   "name": "python",
   "nbconvert_exporter": "python",
   "pygments_lexer": "ipython3",
   "version": "3.8.8"
  }
 },
 "nbformat": 4,
 "nbformat_minor": 5
}
