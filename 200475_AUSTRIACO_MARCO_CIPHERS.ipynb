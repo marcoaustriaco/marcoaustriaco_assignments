{
 "cells": [
  {
   "cell_type": "markdown",
   "id": "70c2107e",
   "metadata": {},
   "source": [
    "# PROBLEM 1 - Caesar Cipher"
   ]
  },
  {
   "cell_type": "code",
   "execution_count": 148,
   "id": "7d41dd60",
   "metadata": {},
   "outputs": [
    {
     "data": {
      "text/plain": [
       "'CUQCEHU CUQCEHU'"
      ]
     },
     "execution_count": 148,
     "metadata": {},
     "output_type": "execute_result"
    }
   ],
   "source": [
    "def problem_1(message, shift):\n",
    "    completecode = \"\"\n",
    "    for i in message:\n",
    "        if ord(i)+shift > 90:\n",
    "            completecode += chr((((ord(i)+shift)-90)%26)+64)\n",
    "        elif ord(i) == 32:\n",
    "            completecode += chr(32)\n",
    "        else:\n",
    "            completecode += chr(ord(i)+shift)\n",
    "    return completecode\n",
    "\n",
    "problem_1(\"MEAMORE MEAMORE\",42)"
   ]
  },
  {
   "cell_type": "markdown",
   "id": "227e5d25",
   "metadata": {},
   "source": [
    "# PROBLEM 2 - Scytale Cipher"
   ]
  },
  {
   "cell_type": "code",
   "execution_count": 1,
   "id": "411359a4",
   "metadata": {},
   "outputs": [
    {
     "data": {
      "text/plain": [
       "'IMNNA_FTAOIGROE'"
      ]
     },
     "execution_count": 1,
     "metadata": {},
     "output_type": "execute_result"
    }
   ],
   "source": [
    "def problem_2(message,shift):\n",
    "    if len(message)%shift != 0:\n",
    "        while len(message)%shift != 0:\n",
    "            message = message + \"_\"\n",
    "    code = \"\"\n",
    "    counter = 0\n",
    "    while counter < len(message):\n",
    "        new_position = (counter // shift) + (len(message) // shift) * (counter % shift)\n",
    "        counter += 1\n",
    "        new_letter = message[new_position]\n",
    "        code += new_letter\n",
    "    return code\n",
    "\n",
    "problem_2(\"INFORMATION_AGE\", 3)"
   ]
  },
  {
   "cell_type": "markdown",
   "id": "29652cf9",
   "metadata": {},
   "source": [
    "# PROBLEM 3 - Vigenere Cipher"
   ]
  },
  {
   "cell_type": "code",
   "execution_count": 26,
   "id": "cf2c7ec7",
   "metadata": {},
   "outputs": [
    {
     "data": {
      "text/plain": [
       "'WC WIQCEEO'"
      ]
     },
     "execution_count": 26,
     "metadata": {},
     "output_type": "execute_result"
    }
   ],
   "source": [
    "def problem_3(message,key):\n",
    "    counter = 0\n",
    "    code1 = \"\"\n",
    "    while counter <= len(message):\n",
    "        for i in key:\n",
    "            counter += 1\n",
    "            if counter <= len(message):     \n",
    "                code1 += i\n",
    "            else:\n",
    "                break\n",
    "    finalcode = \"\"\n",
    "    letter_place = 0\n",
    "    for j in code1:\n",
    "        letter_value = ord(j)-65\n",
    "        final_letter = problem_1(message[letter_place],letter_value)\n",
    "        letter_place += 1\n",
    "        finalcode += final_letter\n",
    "    return finalcode\n",
    "        \n",
    "problem_3(\"MY MESSAGE\",\"KEY\")"
   ]
  },
  {
   "cell_type": "markdown",
   "id": "1cb2af0f",
   "metadata": {},
   "source": [
    "# PROBLEM 4 - Scytale De-cipher"
   ]
  },
  {
   "cell_type": "code",
   "execution_count": 1,
   "id": "90c3619f",
   "metadata": {},
   "outputs": [
    {
     "data": {
      "text/plain": [
       "'INFORMATION_AGE_'"
      ]
     },
     "execution_count": 1,
     "metadata": {},
     "output_type": "execute_result"
    }
   ],
   "source": [
    "def problem_4(message,shift):\n",
    "    count = 0\n",
    "    x = message\n",
    "    uncode = message\n",
    "    while count < len(message):\n",
    "        old_position = (count // shift) + (len(message) // shift) * (count % shift)\n",
    "        letter_in_code = message[count]\n",
    "        count += 1\n",
    "        uncode = uncode[0:old_position] + letter_in_code + uncode[old_position+1:len(message)]\n",
    "    return uncode\n",
    "\n",
    "problem_4(\"IRIANMOGFANEOT__\", 4)\n",
    "    \n",
    "        \n",
    "        \n",
    "        \n",
    "        \n",
    "#replace the old_position letter with the count letter\n",
    "#when you are at the old_position letter, replace then overwrite\n",
    "        \n",
    "        \n",
    "\n",
    "        \n",
    "        "
   ]
  }
 ],
 "metadata": {
  "kernelspec": {
   "display_name": "Python 3",
   "language": "python",
   "name": "python3"
  },
  "language_info": {
   "codemirror_mode": {
    "name": "ipython",
    "version": 3
   },
   "file_extension": ".py",
   "mimetype": "text/x-python",
   "name": "python",
   "nbconvert_exporter": "python",
   "pygments_lexer": "ipython3",
   "version": "3.8.8"
  }
 },
 "nbformat": 4,
 "nbformat_minor": 5
}
