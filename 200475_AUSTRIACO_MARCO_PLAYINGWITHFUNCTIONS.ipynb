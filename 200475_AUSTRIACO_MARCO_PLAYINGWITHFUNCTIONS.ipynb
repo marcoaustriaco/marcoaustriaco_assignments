{
 "cells": [
  {
   "cell_type": "markdown",
   "id": "fd084427",
   "metadata": {},
   "source": [
    "# PROBLEM 1 - Factorial"
   ]
  },
  {
   "cell_type": "code",
   "execution_count": 68,
   "id": "816cbf03",
   "metadata": {},
   "outputs": [
    {
     "data": {
      "text/plain": [
       "3628800"
      ]
     },
     "execution_count": 68,
     "metadata": {},
     "output_type": "execute_result"
    }
   ],
   "source": [
    "def problem_1(number):\n",
    "    \n",
    "    if number >= 0:\n",
    "        CON = 1\n",
    "        for i in range(1,number + 1,1):\n",
    "            CON = CON*i  \n",
    "        return CON\n",
    "    else:\n",
    "        return \"This cannot be calculated. Please input a positive number.\"\n",
    "    \n",
    "problem_1(10)"
   ]
  },
  {
   "cell_type": "markdown",
   "id": "ca5fd009",
   "metadata": {},
   "source": [
    "# PROBLEM 2 - Guessing Game"
   ]
  },
  {
   "cell_type": "code",
   "execution_count": 70,
   "id": "ea0a6849",
   "metadata": {},
   "outputs": [
    {
     "name": "stdout",
     "output_type": "stream",
     "text": [
      "Please enter your password: I hope I pass this class :)\n",
      "Please enter your password: Thank you for moving the LT :)\n",
      "Please enter your password: ITM is the best\n"
     ]
    },
    {
     "data": {
      "text/plain": [
       "1"
      ]
     },
     "execution_count": 70,
     "metadata": {},
     "output_type": "execute_result"
    }
   ],
   "source": [
    "def problem_2(passphrase):\n",
    "    count = 0\n",
    "    while count < 3:\n",
    "        guess = input(\"Please enter your password: \")\n",
    "        if guess == passphrase:\n",
    "            return 1\n",
    "            break\n",
    "        elif guess != passphrase:\n",
    "            count += 1\n",
    "    return 0\n",
    "\n",
    "problem_2(\"ITM is the best\")"
   ]
  },
  {
   "cell_type": "markdown",
   "id": "cee2031f",
   "metadata": {},
   "source": [
    "# PROBLEM 3 - Temperature Converter"
   ]
  },
  {
   "cell_type": "code",
   "execution_count": 5,
   "id": "3ec0195a",
   "metadata": {},
   "outputs": [
    {
     "data": {
      "text/plain": [
       "-175.14999999999998"
      ]
     },
     "execution_count": 5,
     "metadata": {},
     "output_type": "execute_result"
    }
   ],
   "source": [
    "def problem_3(temp, original_format, new_format):\n",
    "    if original_format == \"Fahrenheit\" and new_format == \"Celsius\":\n",
    "        fahrenheit_to_celsius = (temp - 32)* 5/9\n",
    "        return fahrenheit_to_celsius\n",
    "    elif original_format == \"Fahrenheit\" and new_format == \"Kelvin\":\n",
    "        fahrenheit_to_kelvin = ((temp - 32)* 5/9)+273.15\n",
    "        return fahrenheit_to_kelvin\n",
    "    elif original_format == \"Celsius\" and new_format == \"Fahrenheit\":\n",
    "        celsius_to_fahrenheit = (temp * 9/5) + 32\n",
    "        return celsius_to_fahrenheit\n",
    "    elif original_format == \"Celsius\" and new_format == \"Kelvin\":\n",
    "        celsius_to_kelvin = temp + 273.15\n",
    "        return celsius_to_kelvin\n",
    "    elif original_format == \"Kelvin\" and new_format == \"Celsius\":\n",
    "        kelvin_to_celsius = temp - 273.15\n",
    "        return kelvin_to_celsius\n",
    "    elif original_format == \"Kelvin\" and new_format == \"Fahrenheit\":\n",
    "        kelvin_to_fahrenheit = ((temp - 273.15)*9/5)+32\n",
    "        return kelvin_to_fahrenheit\n",
    "    \n",
    "problem_3(98,\"Kelvin\",\"Celsius\")        "
   ]
  },
  {
   "cell_type": "markdown",
   "id": "9e947fd7",
   "metadata": {},
   "source": [
    "# PROBLEM 4 - Exact Change"
   ]
  },
  {
   "cell_type": "code",
   "execution_count": 3,
   "id": "0e8c6005",
   "metadata": {},
   "outputs": [
    {
     "data": {
      "text/plain": [
       "'1P:862/25C:1/10C:1/5C:0/1C:1'"
      ]
     },
     "execution_count": 3,
     "metadata": {},
     "output_type": "execute_result"
    }
   ],
   "source": [
    "def problem_4(amount):\n",
    "    one_p = amount // 100\n",
    "    twentyfive = (amount-one_p*100)//25\n",
    "    ten = (amount - (one_p*100 + twentyfive*25))//10\n",
    "    five = (amount - (one_p*100 + twentyfive*25 + ten*10))//5\n",
    "    one = (amount - (one_p*100 + twentyfive*25 + ten*10 + five*5))//1\n",
    "    return \"1P:{}/25C:{}/10C:{}/5C:{}/1C:{}\".format(one_p,twentyfive,ten,five,one)  \n",
    "\n",
    "problem_4(86236)"
   ]
  },
  {
   "cell_type": "markdown",
   "id": "a7646d0a",
   "metadata": {},
   "source": [
    "# PROBLEM 5 - Invert Capitalization"
   ]
  },
  {
   "cell_type": "code",
   "execution_count": 74,
   "id": "e9b21c26",
   "metadata": {},
   "outputs": [
    {
     "data": {
      "text/plain": [
       "'i LoVe iTm So mUChhhh'"
      ]
     },
     "execution_count": 74,
     "metadata": {},
     "output_type": "execute_result"
    }
   ],
   "source": [
    "#a - 97 and z - 122\n",
    "#A - 65 and Z - 90\n",
    "#small to capital is minus 32\n",
    "#capital to small is plus 32\n",
    "\n",
    "def problem_5(string):\n",
    "    completetext = \"\"\n",
    "    for i in string:\n",
    "        if 65 <= ord(i) <= 90:\n",
    "            completetext += (chr(ord(i)+32))\n",
    "        elif 97 <= ord(i) <= 122:\n",
    "            completetext += (chr(ord(i)-32))\n",
    "        elif ord(i) == 32:\n",
    "            completetext += (chr(ord(i)))\n",
    "    return completetext\n",
    "\n",
    "problem_5(\"I lOvE ItM sO MucHHHH\")"
   ]
  },
  {
   "cell_type": "code",
   "execution_count": null,
   "id": "ad7556c8",
   "metadata": {},
   "outputs": [],
   "source": []
  }
 ],
 "metadata": {
  "kernelspec": {
   "display_name": "Python 3",
   "language": "python",
   "name": "python3"
  },
  "language_info": {
   "codemirror_mode": {
    "name": "ipython",
    "version": 3
   },
   "file_extension": ".py",
   "mimetype": "text/x-python",
   "name": "python",
   "nbconvert_exporter": "python",
   "pygments_lexer": "ipython3",
   "version": "3.8.8"
  }
 },
 "nbformat": 4,
 "nbformat_minor": 5
}
